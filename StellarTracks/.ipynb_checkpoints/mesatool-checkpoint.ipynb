{
 "cells": [
  {
   "cell_type": "code",
   "execution_count": 3,
   "id": "b9c6a9e0",
   "metadata": {},
   "outputs": [],
   "source": [
    "import pandas as pd\n",
    "import numpy as np\n",
    "import matplotlib.pyplot as plt\n",
    "\n",
    "class MESAprofile:\n",
    "    \n",
    "    def __init__(self,header,df):\n",
    "        \n",
    "        self.header = header\n",
    "        self.df = df \n",
    "        \n",
    "        df[\"X\"]=df[\"h1\"]\n",
    "        df[\"Y\"]=df[\"he3\"]+df[\"he4\"]\n",
    "        df[\"Z\"]=1-df[\"X\"]-df[\"Y\"]\n",
    "        \n",
    "        for key in self.header:\n",
    "            setattr(self, key, self.header[key])\n",
    "        \n",
    "    @classmethod\n",
    "    def load(cls,file):\n",
    "        fo=open(file,\"r\")\n",
    "        fo.readline()\n",
    "        header=fo.readline().split()\n",
    "        header_values=fo.readline().split()\n",
    "        header_dict={}\n",
    "        for name,value in zip(header,header_values):\n",
    "            try:\n",
    "                v=float(value)\n",
    "            except:\n",
    "                v=str(value)\n",
    "            header_dict[name]=v\n",
    "        fo.readline()\n",
    "        fo.close()        \n",
    "        return cls(header=header_dict, df=pd.read_csv(file,sep=\"\\s+\",skiprows=5))\n",
    "    \n",
    "    def to_csv(self,file,columns=None):\n",
    "        \n",
    "        if columns is None: columns=list(self.df.columns)\n",
    "            \n",
    "        self.df[columns].to_csv(file,index=False)\n",
    "        "
   ]
  },
  {
   "cell_type": "code",
   "execution_count": null,
   "id": "c58847fa",
   "metadata": {},
   "outputs": [],
   "source": [
    "file=\"MESA-Web_M10_Z00001/profile8.data\"\n",
    "pr1=MESAprofile.load(file)\n",
    "\n",
    "file=\"MESA-Web_M10_Z00001/profile10.data\"\n",
    "pr2=MESAprofile.load(file)\n",
    "\n",
    "file=\"MESA-Web_M10_Z00001/profile12.data\"\n",
    "pr3=MESAprofile.load(file)\n",
    "\n",
    "file=\"MESA-Web_M10_Z00001/profile15.data\"\n",
    "pr4=MESAprofile.load(file)\n",
    "\n",
    "file=\"MESA-Web_M10_Z00001/profile17.data\"\n",
    "pr5=MESAprofile.load(file)\n",
    "\n",
    "\n",
    "#prl=[pr1,pr2,pr3,pr4,pr5]\n",
    "prl=[pr1,pr2,pr3,pr4,pr5]\n",
    "k=5\n",
    "\n",
    "for i,pr in enumerate(prl):\n",
    "    if len(prl)-1==i: plt.plot(pr.df.mass, 10**pr.df.logT,c=\"k\",lw=3)\n",
    "    else: plt.plot(pr.df.mass, 10**pr.df.logT,c=\"gray\",lw=1)\n",
    "plt.yscale(\"log\")\n",
    "plt.xlabel(\"m [Msun]\",fontsize=15)\n",
    "plt.ylabel(\"Temperatura [K]\",fontsize=15)\n",
    "plt.xlim(0,10.5)\n",
    "plt.ylim(1e4,5e8)\n",
    "plt.savefig(f\"tp{k}.pdf\")\n",
    "plt.show()\n",
    "\n",
    "\n",
    "agl=[pr.star_age/1e6 for pr in prl]\n",
    "Xl=[pr.df.X.values[-1] for pr in prl]\n",
    "Yl=[pr.df.Y.values[-1] for pr in prl]\n",
    "Zl=[pr.df.Z.values[-1] for pr in prl]\n",
    "\n",
    "plt.plot(agl,Xl,\"-o\",color=\"black\",lw=2,label=\"X (idrogeno)\")\n",
    "plt.plot(agl,Yl,\"-s\",color=\"blue\",lw=2,label=\"Y (elio)\")\n",
    "plt.plot(agl,Zl,\"-d\",color=\"red\",lw=2, label=\"Z (metallicità)\")\n",
    "plt.xlabel(\"t [Myr]\",fontsize=15)\n",
    "plt.xticks(fontsize=15)\n",
    "plt.ylabel(\"Abbondanza a r=0\",fontsize=15)\n",
    "plt.yticks(fontsize=15)\n",
    "plt.legend(fontsize=14,loc=\"upper left\")\n",
    "plt.xlim(2,23)\n",
    "plt.ylim(-0.05,1)\n",
    "plt.savefig(f\"Cp{k}.pdf\")\n",
    "plt.show()"
   ]
  },
  {
   "cell_type": "code",
   "execution_count": null,
   "id": "6f3c8977",
   "metadata": {},
   "outputs": [],
   "source": [
    "file=\"MESA-Web_M10_Z00001/profile8.data\"\n",
    "pr1=MESAprofile.load(file)\n",
    "\n",
    "file=\"MESA-Web_M10_Z00001/profile10.data\"\n",
    "pr2=MESAprofile.load(file)\n",
    "\n",
    "file=\"MESA-Web_M10_Z00001/profile12.data\"\n",
    "pr3=MESAprofile.load(file)\n",
    "\n",
    "plt.plot(pr1.df.mass, 10**pr1.df.logT)\n",
    "plt.plot(pr2.df.mass, 10**pr2.df.logT)\n",
    "plt.plot(pr3.df.mass, 10**pr3.df.logT)\n",
    "plt.yscale(\"log\")\n",
    "plt.show()\n",
    "\n",
    "plt.scatter(pr1.star_age, pr1.df.X.values[-1])\n",
    "plt.scatter(pr2.star_age, pr2.df.X.values[-1])\n",
    "plt.scatter(pr3.star_age, pr3.df.X.values[-1])\n",
    "\n",
    "plt.scatter(pr1.star_age, pr1.df.Y.values[-1])\n",
    "plt.scatter(pr2.star_age, pr2.df.Y.values[-1])\n",
    "plt.scatter(pr3.star_age, pr3.df.Y.values[-1])\n",
    "\n",
    "\n",
    "#plt.xscale(\"log\")\n",
    "plt.show()"
   ]
  },
  {
   "cell_type": "code",
   "execution_count": null,
   "id": "5e2588c5",
   "metadata": {},
   "outputs": [],
   "source": [
    "pr.df.columns"
   ]
  },
  {
   "cell_type": "markdown",
   "id": "e8ab85de",
   "metadata": {},
   "source": [
    "import matplotlib.pyplot as plt\n",
    "\n",
    "file=\"MESA-Web_M1_Z002/profile3.data\"\n",
    "pr=MESAprofile.load(file)\n",
    "#pr.to_csv(\"test.csv\")\n",
    "print(pr.star_age/1e6,pr.star_age/1e9)\n",
    "plt.plot(pr.df.radius,pr.df.pp)\n",
    "plt.plot(pr.df.radius,pr.df.eps_grav)\n",
    "\n",
    "#plt.plot(pr.df.mass,pr.df.tri_alfa)\n",
    "plt.yscale(\"log\")\n",
    "print(pr.power_nuc_burn)"
   ]
  },
  {
   "cell_type": "code",
   "execution_count": null,
   "id": "0ab41c0b",
   "metadata": {},
   "outputs": [],
   "source": [
    "pr.__dict__"
   ]
  },
  {
   "cell_type": "code",
   "execution_count": null,
   "id": "9ed3d454",
   "metadata": {},
   "outputs": [],
   "source": [
    "import pandas as pd\n",
    "import numpy as np\n",
    "import matplotlib.pyplot as plt\n",
    "\n",
    "class MESAprofile:\n",
    "    \n",
    "    def __init__(self,header,df):\n",
    "        \n",
    "        self.header = header\n",
    "        self.df = df \n",
    "        \n",
    "        for key in self.header:\n",
    "            setattr(self, key, self.header[key])\n",
    "        \n",
    "    @classmethod\n",
    "    def load(cls,file):\n",
    "        fo=open(file,\"r\")\n",
    "        fo.readline()\n",
    "        header=fo.readline().split()\n",
    "        header_values=fo.readline().split()\n",
    "        header_dict={}\n",
    "        for name,value in zip(header,header_values):\n",
    "            try:\n",
    "                v=float(value)\n",
    "            except:\n",
    "                v=str(value)\n",
    "            header_dict[name]=v\n",
    "        fo.readline()\n",
    "        fo.close()        \n",
    "        return cls(header=header_dict, df=pd.read_csv(file,sep=\"\\s+\",skiprows=5))"
   ]
  },
  {
   "cell_type": "code",
   "execution_count": null,
   "id": "6cd48cb8",
   "metadata": {},
   "outputs": [],
   "source": [
    "file=\"MESA-Web_M1_Z00001/profile5.data\"\n",
    "pr1=MESAprofile.load(file)\n",
    "\n",
    "plt.plot(pr1.df.radius, 10**pr1.df.logT,lw=3)\n",
    "plt.axhline(4e6)\n",
    "plt.yticks(fontsize=20)\n",
    "plt.xticks(fontsize=20)\n",
    "plt.yscale(\"log\")"
   ]
  },
  {
   "cell_type": "code",
   "execution_count": null,
   "id": "70efafce",
   "metadata": {},
   "outputs": [],
   "source": [
    "pr1[\"radius\"]"
   ]
  },
  {
   "cell_type": "code",
   "execution_count": 4,
   "id": "1361a7b8",
   "metadata": {},
   "outputs": [],
   "source": [
    "file=\"MESA-Web_M10_Z00001/profile8.data\"\n",
    "pr1=MESAprofile.load(file)"
   ]
  },
  {
   "cell_type": "code",
   "execution_count": 7,
   "id": "2c6db7c4",
   "metadata": {},
   "outputs": [
    {
     "data": {
      "text/plain": [
       "Index(['mass', 'radius', 'luminosity', 'pressure', 'logRho', 'logT', 'energy',\n",
       "       'entropy', 'cp', 'gamma1', 'grada', 'mu', 'free_e', 'ye', 'pgas',\n",
       "       'prad', 'gradr', 'gradT', 'velocity', 'conv_vel', 'opacity', 'eps_nuc',\n",
       "       'pp', 'cno', 'tri_alfa', 'eps_nuc_neu_total', 'non_nuc_neu', 'eps_grav',\n",
       "       'h1', 'he3', 'he4', 'c12', 'n14', 'o16', 'ne20', 'mg24', 'si28', 's32',\n",
       "       'ar36', 'ca40', 'ti44', 'cr48', 'fe52', 'fe54', 'fe56', 'ni56', 'eta',\n",
       "       'log_omega', 'v_rot', 'j_rot', 'dynamo_log_B_r', 'dynamo_log_B_phi',\n",
       "       'log_D_conv', 'log_D_semi', 'log_D_ovr', 'log_D_thrm', 'X', 'Y', 'Z'],\n",
       "      dtype='object')"
      ]
     },
     "execution_count": 7,
     "metadata": {},
     "output_type": "execute_result"
    }
   ],
   "source": [
    "pr1.df.columns"
   ]
  },
  {
   "cell_type": "code",
   "execution_count": 8,
   "id": "1dac3a4d",
   "metadata": {},
   "outputs": [
    {
     "ename": "AttributeError",
     "evalue": "'MESAprofile' object has no attribute 'mass'",
     "output_type": "error",
     "traceback": [
      "\u001b[0;31m---------------------------------------------------------------------------\u001b[0m",
      "\u001b[0;31mAttributeError\u001b[0m                            Traceback (most recent call last)",
      "Cell \u001b[0;32mIn [8], line 1\u001b[0m\n\u001b[0;32m----> 1\u001b[0m plt\u001b[38;5;241m.\u001b[39mplot(\u001b[43mpr1\u001b[49m\u001b[38;5;241;43m.\u001b[39;49m\u001b[43mmass\u001b[49m,pr1\u001b[38;5;241m.\u001b[39mY)\n",
      "\u001b[0;31mAttributeError\u001b[0m: 'MESAprofile' object has no attribute 'mass'"
     ]
    }
   ],
   "source": [
    "plt.plot(pr1.mass,pr1.Y)"
   ]
  },
  {
   "cell_type": "code",
   "execution_count": null,
   "id": "ffd6ea20",
   "metadata": {},
   "outputs": [],
   "source": []
  }
 ],
 "metadata": {
  "kernelspec": {
   "display_name": "Python 3 (ipykernel)",
   "language": "python",
   "name": "python3"
  },
  "language_info": {
   "codemirror_mode": {
    "name": "ipython",
    "version": 3
   },
   "file_extension": ".py",
   "mimetype": "text/x-python",
   "name": "python",
   "nbconvert_exporter": "python",
   "pygments_lexer": "ipython3",
   "version": "3.9.13"
  }
 },
 "nbformat": 4,
 "nbformat_minor": 5
}
